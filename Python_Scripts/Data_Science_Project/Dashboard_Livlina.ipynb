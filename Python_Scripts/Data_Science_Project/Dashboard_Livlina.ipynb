{
 "cells": [
  {
   "cell_type": "code",
   "execution_count": 10,
   "metadata": {},
   "outputs": [],
   "source": [
    "# pip install streamlit\n",
    "# !pip install plotly\n",
    "# !pip install numerize"
   ]
  },
  {
   "cell_type": "code",
   "execution_count": 7,
   "metadata": {},
   "outputs": [],
   "source": [
    "import streamlit as st\n",
    "import pandas as pd\n",
    "import plotly.express as px"
   ]
  },
  {
   "cell_type": "code",
   "execution_count": 13,
   "metadata": {},
   "outputs": [],
   "source": [
    "\n",
    "# Load your timeseries data\n",
    "data = pd.read_csv(\"outbound_data.csv\")\n",
    "\n",
    "# Display basic EDA information\n",
    "st.write(\"Overview of the Outbound Zone\")\n",
    "st.dataframe(data.head())\n",
    "st.write(\"Summary Statistcs\")\n",
    "st.write(data.describe())\n"
   ]
  },
  {
   "cell_type": "code",
   "execution_count": 14,
   "metadata": {},
   "outputs": [
    {
     "data": {
      "text/plain": [
       "DeltaGenerator()"
      ]
     },
     "execution_count": 14,
     "metadata": {},
     "output_type": "execute_result"
    }
   ],
   "source": [
    "# Plot an interactive line chart\n",
    "st.write(\"Distribution of Workload over Time\")\n",
    "fig = px.line(data, x='Order_date', y='Time(hrs)', title='Distribution of Workload over Time')\n",
    "st.plotly_chart(fig)\n"
   ]
  },
  {
   "cell_type": "code",
   "execution_count": null,
   "metadata": {},
   "outputs": [],
   "source": [
    "# Display key metrics\n",
    "st.write(\"### Key Metrics\")\n",
    "total_pallets = data['Total_Nb_Pallet'].sum()\n",
    "total_orders = data['Number_of_orders'].sum()\n",
    "\n",
    "st.metric(\"Total Pallets\", total_pallets)\n",
    "st.metric(\"Total Orders\", total_orders)\n"
   ]
  },
  {
   "cell_type": "code",
   "execution_count": null,
   "metadata": {},
   "outputs": [],
   "source": [
    "# Navigation menu\n",
    "menu = st.sidebar.selectbox(\"Select View\", [\"Daily\", \"Weekly\", \"Monthly\"])\n",
    "\n",
    "if menu == \"Daily\":\n",
    "    # Add daily view content\n",
    "    st.write(\"### Daily View\")\n",
    "\n",
    "elif menu == \"Weekly\":\n",
    "    # Add weekly view content\n",
    "    st.write(\"### Weekly View\")\n",
    "\n",
    "elif menu == \"Monthly\":\n",
    "    # Add monthly view content\n",
    "    st.write(\"### Monthly View\")\n"
   ]
  }
 ],
 "metadata": {
  "kernelspec": {
   "display_name": "APIP",
   "language": "python",
   "name": "python3"
  },
  "language_info": {
   "codemirror_mode": {
    "name": "ipython",
    "version": 3
   },
   "file_extension": ".py",
   "mimetype": "text/x-python",
   "name": "python",
   "nbconvert_exporter": "python",
   "pygments_lexer": "ipython3",
   "version": "3.9.16"
  }
 },
 "nbformat": 4,
 "nbformat_minor": 2
}
